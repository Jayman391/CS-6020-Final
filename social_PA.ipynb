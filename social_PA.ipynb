{
 "cells": [
  {
   "cell_type": "code",
   "execution_count": null,
   "metadata": {},
   "outputs": [],
   "source": [
    "'''Setup:\n",
    "\n",
    "Agent Based Model for PA in group based social networks\n",
    "\n",
    "Agents are users\n",
    "  users have two parameters : post rate & comment rate\n",
    "    poisson random variables\n",
    "\n",
    "Forums create threads where users interact\n",
    "  \n",
    "create interaction matrix between users, records number of interactions over given interval\n",
    "\n",
    "measurements are number of interactions between agents for a given time interval\n",
    "\n",
    "at each time step:\n",
    "  initialize random number of new users\n",
    "  each new user joins random number of groups (not based on group size)\n",
    "  for each user:\n",
    "    random number of posts based on user post rate, placed in user groups based on group size\n",
    "    gather list of all posts in every group user is part of \n",
    "      add comments based on comment rate, proportional to most active threads (highest number of existing comments)\n",
    "        for each comment choose a random user in the thread that this user 'replied' to, add to interaction matrix\n",
    "'''"
   ]
  },
  {
   "cell_type": "code",
   "execution_count": null,
   "metadata": {},
   "outputs": [],
   "source": []
  }
 ],
 "metadata": {
  "kernelspec": {
   "display_name": "Python 3",
   "language": "python",
   "name": "python3"
  },
  "language_info": {
   "name": "python",
   "version": "3.11.5"
  }
 },
 "nbformat": 4,
 "nbformat_minor": 2
}
