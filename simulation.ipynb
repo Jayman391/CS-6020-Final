{
 "cells": [
  {
   "cell_type": "code",
   "execution_count": 8,
   "metadata": {},
   "outputs": [],
   "source": [
    "import numpy as np\n",
    "import scipy.stats as stats"
   ]
  },
  {
   "cell_type": "code",
   "execution_count": 225,
   "metadata": {},
   "outputs": [],
   "source": [
    "post_rate_val = 0.25\n",
    "\n",
    "comment_rate_val = 1\n",
    "\n",
    "new_group_creation_chance_a = 1\n",
    "new_group_creation_chance_b = 20\n",
    "\n",
    "existing_group_join_chance_a = 1\n",
    "existing_group_join_chance_b = 10\n",
    "\n",
    "niche_score_val_a = 0.25\n",
    "niche_score_val_b = 0.5\n",
    "\n",
    "thread_popularity_legnth = 5\n",
    "thread_decay_rate = 0.25"
   ]
  },
  {
   "cell_type": "code",
   "execution_count": 242,
   "metadata": {},
   "outputs": [],
   "source": [
    "class User:\n",
    "    def __init__(self, acct_id):\n",
    "        self.id = acct_id\n",
    "        # The rate at which a post is made\n",
    "        self.post_rate = stats.expon(post_rate_val).rvs()\n",
    "        # The rate at which a comment is made\n",
    "        self.comment_rate = stats.expon(comment_rate_val).rvs()\n",
    "        # The chance of making a new group at the creation time of the user\n",
    "        self.new_group_creation_chance = stats.beta(new_group_creation_chance_a,\n",
    "                                                     new_group_creation_chance_b).rvs()\n",
    "        # The chance of joining any existing group at the time of creation of the user\n",
    "        self.existing_group_join_chance = stats.beta(existing_group_join_chance_a,\n",
    "                                                     existing_group_join_chance_b).rvs()\n",
    "        # A score that increases the probability of commenting in smaller, more niche groups\n",
    "        self.niche_score = stats.beta(niche_score_val_a, niche_score_val_b).rvs()\n",
    "        self.groups = []\n",
    "        self.posts = []\n",
    "        self.comments = []\n",
    "\n",
    "class Group:\n",
    "    def __init__(self, group_id):\n",
    "        self.id = group_id\n",
    "        self.posts = []\n",
    "\n",
    "class Post:\n",
    "    def __init__(self, post_id, group_id, user):\n",
    "        self.id = post_id\n",
    "        self.group_id = group_id\n",
    "        self.user = user\n",
    "        self.comments = []\n",
    "        # How active the post is - this can be useful for visualizations\n",
    "        self.current_activity = 0\n",
    "        self.highest_activity = 0\n",
    "\n",
    "class Comment:\n",
    "    def __init__(self, comment_id, post_id, parent_user_id, child_user_id):\n",
    "        self.id = comment_id\n",
    "        self.post_id = post_id\n",
    "        self.parent_user_id = parent_user_id\n",
    "        self.child_user_id = child_user_id\n",
    "\n",
    "\n",
    "\n",
    "\n",
    "\n",
    "\n",
    "\n"
   ]
  },
  {
   "cell_type": "code",
   "execution_count": 243,
   "metadata": {},
   "outputs": [
    {
     "name": "stdout",
     "output_type": "stream",
     "text": [
      "comment_rate 1.7918808211285424\n",
      "existing_group_join_chance 0.08084284528600091\n",
      "groups []\n",
      "id 1\n",
      "new_group_creation_chance 0.003268175211669148\n",
      "niche_score 0.0014399455102153847\n",
      "post_rate 0.37193317730344017\n"
     ]
    }
   ],
   "source": [
    "test_user = User(1)\n",
    "# printing each attribute\n",
    "for attr in dir(test_user):\n",
    "    if not attr.startswith('__'):\n",
    "        print(attr, getattr(test_user, attr))"
   ]
  }
 ],
 "metadata": {
  "kernelspec": {
   "display_name": "ds",
   "language": "python",
   "name": "python3"
  },
  "language_info": {
   "codemirror_mode": {
    "name": "ipython",
    "version": 3
   },
   "file_extension": ".py",
   "mimetype": "text/x-python",
   "name": "python",
   "nbconvert_exporter": "python",
   "pygments_lexer": "ipython3",
   "version": "3.11.4"
  }
 },
 "nbformat": 4,
 "nbformat_minor": 2
}
